{
  "metadata": {
    "language_info": {
      "codemirror_mode": {
        "name": "python",
        "version": 3
      },
      "file_extension": ".py",
      "mimetype": "text/x-python",
      "name": "python",
      "nbconvert_exporter": "python",
      "pygments_lexer": "ipython3",
      "version": "3.8"
    },
    "kernelspec": {
      "name": "python",
      "display_name": "Pyolite",
      "language": "python"
    }
  },
  "nbformat_minor": 4,
  "nbformat": 4,
  "cells": [
    {
      "cell_type": "markdown",
      "source": "# My Jupyter Notebook on IBM Watson Studio",
      "metadata": {}
    },
    {
      "cell_type": "markdown",
      "source": "**Max Tjipta Rahardja**</br>\nCurrent occupation : Clinical coordinator</br>\nDesired occupation : Data analyst or data scientist",
      "metadata": {}
    },
    {
      "cell_type": "markdown",
      "source": "*I am interested in data science because it feels great to find impactful solution from any lingering problems exist or simply improving performance from existing process(es) to a whole new level by analyzing all related data.*",
      "metadata": {}
    },
    {
      "cell_type": "markdown",
      "source": "### The following code will do a simple multiplication using variable and print function.",
      "metadata": {}
    },
    {
      "cell_type": "code",
      "source": "a = 5*4\nprint (a)",
      "metadata": {
        "trusted": true
      },
      "execution_count": 5,
      "outputs": [
        {
          "name": "stdout",
          "text": "20\n",
          "output_type": "stream"
        }
      ]
    },
    {
      "cell_type": "markdown",
      "source": "**These are another example of markdown features**\n\n1. ~~Strikethrough~~\n\n2. Table\n\n| Name | Qty |\n| ----------- | ----------- |\n| a | 1 |\n| b | 2 |\n| c | 3 |\n\n3. > Blockquote\n\n4. Horizontal rule\n---\n\n5. Hyperlink [Google Search](www.google.com)\n\nand many more.",
      "metadata": {}
    },
    {
      "cell_type": "code",
      "source": "",
      "metadata": {},
      "execution_count": null,
      "outputs": []
    }
  ]
}